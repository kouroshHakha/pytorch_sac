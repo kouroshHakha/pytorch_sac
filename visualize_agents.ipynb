{
 "cells": [
  {
   "cell_type": "code",
   "execution_count": 76,
   "metadata": {},
   "outputs": [],
   "source": [
    "%matplotlib inline\n",
    "\n",
    "os.environ['MKL_SERVICE_FORCE_INTEL'] = '1'\n",
    "os.environ['MUJOCO_GL'] = 'egl'\n",
    "\n",
    "import pickle\n",
    "import dmc\n",
    "from pathlib import Path\n",
    "import numpy as np\n",
    "\n",
    "import matplotlib.pyplot as plt\n",
    "import imageio\n",
    "from IPython.display import HTML"
   ]
  },
  {
   "cell_type": "code",
   "execution_count": 77,
   "metadata": {},
   "outputs": [],
   "source": [
    "# choose the name of the task\n",
    "task = 'quadruped_stand'\n",
    "root = Path('agent_runs')\n",
    "\n",
    "\n",
    "with open(root / f'{task}.pickle', 'rb') as f:\n",
    "    data = pickle.load(f)"
   ]
  },
  {
   "cell_type": "code",
   "execution_count": 78,
   "metadata": {},
   "outputs": [
    {
     "data": {
      "text/plain": [
       "(array([ 1.,  1.,  1.,  3.,  7., 18., 22., 17., 13., 17.]),\n",
       " array([830.55348154, 846.98573055, 863.41797957, 879.85022858,\n",
       "        896.28247759, 912.71472661, 929.14697562, 945.57922464,\n",
       "        962.01147365, 978.44372266, 994.87597168]),\n",
       " <BarContainer object of 10 artists>)"
      ]
     },
     "execution_count": 78,
     "metadata": {},
     "output_type": "execute_result"
    },
    {
     "data": {
      "image/png": "[encoded data removed]",
      "text/plain": [
       "<Figure size 432x288 with 1 Axes>"
      ]
     },
     "metadata": {
      "needs_background": "light"
     },
     "output_type": "display_data"
    }
   ],
   "source": [
    "# plot reward distribution among all existing samples\n",
    "returns = data['reward'].sum((-1, -2))\n",
    "plt.hist(returns)\n"
   ]
  },
  {
   "cell_type": "code",
   "execution_count": 79,
   "metadata": {},
   "outputs": [
    {
     "name": "stdout",
     "output_type": "stream",
     "text": [
      "return = 906.2789119064053\n",
      "return = 942.7867605164224\n",
      "return = 990.082911794337\n"
     ]
    }
   ],
   "source": [
    "# check the videos of some of the stored observations\n",
    "\n",
    "max_ret, min_ret = returns.max(), returns.min()\n",
    "N = len(returns)\n",
    "rank_list = (N * np.array([0.1, 0.5, 0.9])).astype('int') \n",
    "\n",
    "inds = returns.argsort()\n",
    "for rank in rank_list:\n",
    "    ind = inds[rank]\n",
    "    print(f'return = {returns[ind]}')\n",
    "    obs = data['obs'][ind]\n",
    "    # display\n",
    "    imageio.mimsave(f'{task}_{rank}.gif', obs.transpose(0, 2, 3, 1), fps=20)\n"
   ]
  },
  {
   "cell_type": "code",
   "execution_count": 80,
   "metadata": {},
   "outputs": [
    {
     "data": {
      "text/html": [
       "<img src=\"quadruped_walk_90.gif\">"
      ],
      "text/plain": [
       "<IPython.core.display.HTML object>"
      ]
     },
     "execution_count": 80,
     "metadata": {},
     "output_type": "execute_result"
    }
   ],
   "source": [
    "HTML(f'<img src=\"{task}_90.gif\">')\n"
   ]
  },
  {
   "cell_type": "code",
   "execution_count": 81,
   "metadata": {},
   "outputs": [
    {
     "data": {
      "text/html": [
       "<img src=\"quadruped_walk_50.gif\">"
      ],
      "text/plain": [
       "<IPython.core.display.HTML object>"
      ]
     },
     "execution_count": 81,
     "metadata": {},
     "output_type": "execute_result"
    }
   ],
   "source": [
    "HTML(f'<img src=\"{task}_50.gif\">')"
   ]
  },
  {
   "cell_type": "code",
   "execution_count": 82,
   "metadata": {},
   "outputs": [
    {
     "data": {
      "text/html": [
       "<img src=\"quadruped_walk_10.gif\">"
      ],
      "text/plain": [
       "<IPython.core.display.HTML object>"
      ]
     },
     "execution_count": 82,
     "metadata": {},
     "output_type": "execute_result"
    }
   ],
   "source": [
    "HTML(f'<img src=\"{task}_10.gif\">')"
   ]
  },
  {
   "cell_type": "code",
   "execution_count": null,
   "metadata": {},
   "outputs": [],
   "source": []
  }
 ],
 "metadata": {
  "interpreter": {
   "hash": "3f49e71d5a4561ebae520361f20f6b09ea77b1ad6de91bf873e838bdff1a7e76"
  },
  "kernelspec": {
   "display_name": "Python 3.8.12 64-bit ('urlb': conda)",
   "name": "python3"
  },
  "language_info": {
   "codemirror_mode": {
    "name": "ipython",
    "version": 3
   },
   "file_extension": ".py",
   "mimetype": "text/x-python",
   "name": "python",
   "nbconvert_exporter": "python",
   "pygments_lexer": "ipython3",
   "version": "3.8.12"
  },
  "orig_nbformat": 4
 },
 "nbformat": 4,
 "nbformat_minor": 2
}
