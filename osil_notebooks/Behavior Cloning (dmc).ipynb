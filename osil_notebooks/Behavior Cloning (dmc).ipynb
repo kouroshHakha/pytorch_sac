{
 "cells": [
  {
   "cell_type": "code",
   "execution_count": 1,
   "id": "0d8ba3cf",
   "metadata": {},
   "outputs": [
    {
     "name": "stdout",
     "output_type": "stream",
     "text": [
      "workspace = /home/kourosh/projects/dm_sac/osil_notebooks\n"
     ]
    }
   ],
   "source": [
    "import math\n",
    "import logging\n",
    "\n",
    "import torch\n",
    "import torch.nn as nn\n",
    "from torch.nn import functional as F\n",
    "import matplotlib.pyplot as plt\n",
    "from pathlib import Path\n",
    "import pickle\n",
    "\n",
    "import pytorch_lightning as pl\n",
    "\n",
    "print(f'workspace = {Path.cwd()}')\n",
    "\n",
    "\n",
    "import sys\n",
    "sys.path.append(str(Path('..').resolve().absolute()))"
   ]
  },
  {
   "cell_type": "code",
   "execution_count": 2,
   "metadata": {},
   "outputs": [],
   "source": [
    "root = Path.cwd().parent"
   ]
  },
  {
   "cell_type": "code",
   "execution_count": 3,
   "id": "fabaa83b",
   "metadata": {},
   "outputs": [
    {
     "name": "stderr",
     "output_type": "stream",
     "text": [
      "/home/kourosh/anaconda3/envs/urlb/lib/python3.8/site-packages/glfw/__init__.py:906: GLFWError: (65544) b'X11: The DISPLAY environment variable is missing'\n",
      "  warnings.warn(message, GLFWError)\n"
     ]
    }
   ],
   "source": [
    "import dmc\n",
    "import numpy as np\n",
    "\n",
    "\n",
    "from torch.utils.data import Dataset\n",
    "from torch.utils.data.dataloader import DataLoader\n",
    "\n",
    "\n",
    "TASK_NAME = 'walker_stand'\n",
    "OBS_TYPE = 'pixels'\n",
    "BLOCK_SIZE = 1\n"
   ]
  },
  {
   "cell_type": "code",
   "execution_count": 4,
   "metadata": {},
   "outputs": [],
   "source": [
    "\n",
    "class DMC(Dataset):\n",
    "\n",
    "    def __init__(self, task_name='walker_stand', obs_type='state', block_size=64):\n",
    "\n",
    "        assert obs_type in ['state', 'pixels']\n",
    "\n",
    "        \n",
    "        self.block_size = block_size\n",
    "\n",
    "        with open(Path(root) / 'agent_runs' / f'{task_name}.pickle', 'rb') as f:\n",
    "            data = pickle.load(f)\n",
    "        \n",
    "        self.obs = data['obs'] if obs_type == 'pixels' else data['state']\n",
    "        self.acs = data['action']\n",
    "        self.terminal = data['terminal']\n",
    "        self.reward = data['reward']\n",
    "\n",
    "        self.num_trajs = len(self.obs)\n",
    "        self.num_cols = len(self.obs[0]) - self.block_size\n",
    "    \n",
    "    def __len__(self):\n",
    "        return self.num_trajs * self.num_cols\n",
    "\n",
    "    def __getitem__(self, idx):\n",
    "        # grab a chunk of (block_size + 1) characters from the data\n",
    "\n",
    "        traj_idx = idx // self.num_cols\n",
    "        start_idx = idx % self.num_cols\n",
    "        obses = self.obs[traj_idx][start_idx:start_idx + self.block_size]\n",
    "        acs = self.acs[traj_idx][start_idx:start_idx + self.block_size]\n",
    "        \n",
    "        x = torch.tensor(obses, dtype=torch.float)\n",
    "        y = torch.tensor(acs, dtype=torch.float)\n",
    "        return x, y\n",
    "\n",
    "dataset = DMC(task_name=TASK_NAME, obs_type=OBS_TYPE, block_size=BLOCK_SIZE)\n",
    "\n",
    "loader = DataLoader(dataset, shuffle=True, pin_memory=True,\n",
    "                                batch_size=256,\n",
    "                                num_workers=0)\n"
   ]
  },
  {
   "cell_type": "code",
   "execution_count": 5,
   "metadata": {},
   "outputs": [
    {
     "name": "stdout",
     "output_type": "stream",
     "text": [
      "(100, 1000, 3, 84, 84)\n",
      "99900\n",
      "x  torch.Size([1, 3, 84, 84])\n",
      "y  torch.Size([1, 6])\n"
     ]
    }
   ],
   "source": [
    "print(dataset.obs.shape)\n",
    "print(len(dataset))\n",
    "x, y = dataset[len(dataset)-1]\n",
    "print('x ', x.shape)\n",
    "print('y ', y.shape)"
   ]
  },
  {
   "cell_type": "code",
   "execution_count": 6,
   "id": "8bde0c37",
   "metadata": {},
   "outputs": [],
   "source": [
    "import tqdm \n",
    "\n",
    "class Encoder(nn.Module):\n",
    "    def __init__(self, obs_shape, h_dim):\n",
    "        super().__init__()\n",
    "\n",
    "        assert len(obs_shape) == 3\n",
    "        self.repr_dim = 32 * 35 * 35\n",
    "\n",
    "        self.convnet = nn.Sequential(\n",
    "            nn.Conv2d(obs_shape[0], 32, 3, stride=2),\n",
    "            nn.ReLU(), \n",
    "            nn.Conv2d(32, 32, 3, stride=1),\n",
    "            nn.ReLU(), \n",
    "            nn.Conv2d(32, 32, 3, stride=1),\n",
    "            nn.ReLU(), \n",
    "            nn.Conv2d(32, 32, 3, stride=1),\n",
    "            nn.ReLU()\n",
    "        )\n",
    "\n",
    "        self.lin = nn.Linear(self.repr_dim, h_dim, bias=True)\n",
    "\n",
    "        self.apply(self._init_weights)\n",
    "\n",
    "    def _init_weights(self, m):\n",
    "        \"\"\"Custom weight init for Conv2D and Linear layers.\"\"\"\n",
    "        if isinstance(m, nn.Linear):\n",
    "            nn.init.orthogonal_(m.weight.data)\n",
    "            if hasattr(m.bias, 'data'):\n",
    "                m.bias.data.fill_(0.0)\n",
    "        elif isinstance(m, nn.Conv2d) or isinstance(m, nn.ConvTranspose2d):\n",
    "            gain = nn.init.calculate_gain('relu')\n",
    "            nn.init.orthogonal_(m.weight.data, gain)\n",
    "            if hasattr(m.bias, 'data'):\n",
    "                m.bias.data.fill_(0.0)\n",
    "\n",
    "    def forward(self, obs):\n",
    "        obs = obs / 255.0 - 0.5\n",
    "        h = self.convnet(obs)\n",
    "        h = h.view(h.shape[0], -1)\n",
    "        h = self.lin(h)\n",
    "        return h\n",
    "\n",
    "class BCMLP(nn.Module):\n",
    "    \n",
    "    def __init__(self, conf):\n",
    "        super().__init__()\n",
    "\n",
    "        self.h_dim = h_dim = conf.h_dim\n",
    "        self.obs_shape = obs_shape = conf.obs_dim\n",
    "        self.ac_dim = ac_dim = conf.ac_dim\n",
    "        \n",
    "        self.emb = None\n",
    "        if len(obs_shape) > 1:\n",
    "            self.emb = Encoder(obs_shape, h_dim)\n",
    "\n",
    "        self.mlp = nn.Sequential(nn.Linear(h_dim if self.emb else obs_shape[0], h_dim),\n",
    "                                 nn.ReLU(),\n",
    "                                 nn.Linear(h_dim, h_dim),\n",
    "                                 nn.ReLU(),\n",
    "                                 nn.Linear(h_dim, h_dim),\n",
    "                                 nn.ReLU(),\n",
    "                                 nn.Linear(h_dim, ac_dim)\n",
    "                                )\n",
    "                \n",
    "        self.apply(self._init_weights)\n",
    "        \n",
    "    def _init_weights(self, module):\n",
    "        if isinstance(module, (nn.Linear, nn.Embedding)):\n",
    "            module.weight.data.normal_(mean=0.0, std=0.02)\n",
    "            if isinstance(module, nn.Linear) and module.bias is not None:\n",
    "                module.bias.data.zero_()\n",
    "        elif isinstance(module, nn.LayerNorm):\n",
    "            module.bias.data.zero_()\n",
    "            module.weight.data.fill_(1.0)\n",
    "        \n",
    "    def forward(self, x):\n",
    "        if self.emb:\n",
    "            x = self.emb(x)\n",
    "        pred_ac = self.mlp(x)\n",
    "        return pred_ac\n",
    "    \n",
    "    def bc_loss(self, pred_ac, target_ac):\n",
    "     \n",
    "        pred_ac = pred_ac.view(-1, pred_ac.shape[-1])\n",
    "        target_ac = target_ac.view(-1, target_ac.shape[-1])\n",
    "        loss = F.mse_loss(pred_ac, target_ac)\n",
    "        \n",
    "        return loss\n",
    "        \n",
    "class GPTConfig:\n",
    "    \"\"\" base GPT config, params common to all GPT versions \"\"\"\n",
    "    embd_pdrop = 0.1\n",
    "    resid_pdrop = 0.1\n",
    "    attn_pdrop = 0.1\n",
    "\n",
    "    def __init__(self, vocab_size=2, block_size=64, \n",
    "                 n_layer=4, n_head=8, n_embd=512, obs_dim=4, ac_dim=2):\n",
    "        self.vocab_size = vocab_size\n",
    "        self.block_size = block_size\n",
    "\n",
    "        self.n_layer=n_layer\n",
    "        self.n_head=n_head\n",
    "        self.h_dim=n_embd \n",
    "        \n",
    "        self.in_dim = vocab_size\n",
    "        self.out_dim = vocab_size\n",
    "        self.max_T = block_size\n",
    "        \n",
    "        self.obs_dim = obs_dim\n",
    "        self.ac_dim = ac_dim\n",
    "     "
   ]
  },
  {
   "cell_type": "code",
   "execution_count": 7,
   "id": "0d8055d2",
   "metadata": {},
   "outputs": [],
   "source": [
    "\n",
    "x, y = dataset[0]\n",
    "conf = GPTConfig(block_size=1, n_embd=256, obs_dim=x.shape[1:], ac_dim=y.shape[-1])\n",
    "\n",
    "\n",
    "weight_decay=1e-4\n",
    "learning_rate=1e-4\n",
    "betas=(0.99,0.999)\n",
    "device = torch.device('cuda')\n",
    "losses = []\n",
    "epochs = 20\n"
   ]
  },
  {
   "cell_type": "code",
   "execution_count": 8,
   "id": "06627b0d",
   "metadata": {},
   "outputs": [
    {
     "name": "stdout",
     "output_type": "stream",
     "text": [
      "torch.Size([3, 6])\n"
     ]
    }
   ],
   "source": [
    "model = BCMLP(conf)\n",
    "optimizer = torch.optim.AdamW(model.parameters(), lr=learning_rate, betas=betas)\n",
    "model = model.to(device)\n",
    "\n",
    "\n",
    "if len(model.obs_shape) > 1:\n",
    "    x = torch.randn((3, 3, 84, 84)).float().to(device)\n",
    "    y = model(x)\n",
    "    print(y.shape)"
   ]
  },
  {
   "cell_type": "code",
   "execution_count": 13,
   "metadata": {},
   "outputs": [
    {
     "name": "stderr",
     "output_type": "stream",
     "text": [
      "  1%|▏         | 5/391 [00:00<00:19, 19.65it/s]"
     ]
    },
    {
     "name": "stdout",
     "output_type": "stream",
     "text": [
      "0.45781368017196655\n"
     ]
    },
    {
     "name": "stderr",
     "output_type": "stream",
     "text": [
      "100%|██████████| 391/391 [00:14<00:00, 27.74it/s]\n",
      "  2%|▏         | 6/391 [00:00<00:14, 25.75it/s]"
     ]
    },
    {
     "name": "stdout",
     "output_type": "stream",
     "text": [
      "0.3838927745819092\n"
     ]
    },
    {
     "name": "stderr",
     "output_type": "stream",
     "text": [
      "100%|██████████| 391/391 [00:13<00:00, 28.46it/s]\n",
      "  2%|▏         | 6/391 [00:00<00:14, 26.16it/s]"
     ]
    },
    {
     "name": "stdout",
     "output_type": "stream",
     "text": [
      "0.37194332480430603\n"
     ]
    },
    {
     "name": "stderr",
     "output_type": "stream",
     "text": [
      "100%|██████████| 391/391 [00:13<00:00, 28.09it/s]\n",
      "  2%|▏         | 6/391 [00:00<00:14, 26.96it/s]"
     ]
    },
    {
     "name": "stdout",
     "output_type": "stream",
     "text": [
      "0.35873112082481384\n"
     ]
    },
    {
     "name": "stderr",
     "output_type": "stream",
     "text": [
      "100%|██████████| 391/391 [00:13<00:00, 28.42it/s]\n",
      "  2%|▏         | 6/391 [00:00<00:14, 25.91it/s]"
     ]
    },
    {
     "name": "stdout",
     "output_type": "stream",
     "text": [
      "0.349597692489624\n"
     ]
    },
    {
     "name": "stderr",
     "output_type": "stream",
     "text": [
      "100%|██████████| 391/391 [00:13<00:00, 28.27it/s]\n",
      "  2%|▏         | 6/391 [00:00<00:14, 26.00it/s]"
     ]
    },
    {
     "name": "stdout",
     "output_type": "stream",
     "text": [
      "0.3362366557121277\n"
     ]
    },
    {
     "name": "stderr",
     "output_type": "stream",
     "text": [
      "100%|██████████| 391/391 [00:13<00:00, 28.81it/s]\n",
      "  2%|▏         | 6/391 [00:00<00:14, 26.47it/s]"
     ]
    },
    {
     "name": "stdout",
     "output_type": "stream",
     "text": [
      "0.3426046371459961\n"
     ]
    },
    {
     "name": "stderr",
     "output_type": "stream",
     "text": [
      "100%|██████████| 391/391 [00:13<00:00, 28.92it/s]\n",
      "  2%|▏         | 6/391 [00:00<00:14, 27.10it/s]"
     ]
    },
    {
     "name": "stdout",
     "output_type": "stream",
     "text": [
      "0.3259008526802063\n"
     ]
    },
    {
     "name": "stderr",
     "output_type": "stream",
     "text": [
      "100%|██████████| 391/391 [00:13<00:00, 28.28it/s]\n",
      "  2%|▏         | 6/391 [00:00<00:14, 27.23it/s]"
     ]
    },
    {
     "name": "stdout",
     "output_type": "stream",
     "text": [
      "0.30183184146881104\n"
     ]
    },
    {
     "name": "stderr",
     "output_type": "stream",
     "text": [
      "100%|██████████| 391/391 [00:13<00:00, 29.21it/s]\n",
      "  2%|▏         | 7/391 [00:00<00:13, 27.73it/s]"
     ]
    },
    {
     "name": "stdout",
     "output_type": "stream",
     "text": [
      "0.3114248514175415\n"
     ]
    },
    {
     "name": "stderr",
     "output_type": "stream",
     "text": [
      "100%|██████████| 391/391 [00:13<00:00, 28.94it/s]\n",
      "  2%|▏         | 6/391 [00:00<00:14, 27.45it/s]"
     ]
    },
    {
     "name": "stdout",
     "output_type": "stream",
     "text": [
      "0.3128284811973572\n"
     ]
    },
    {
     "name": "stderr",
     "output_type": "stream",
     "text": [
      "100%|██████████| 391/391 [00:13<00:00, 28.91it/s]\n",
      "  2%|▏         | 7/391 [00:00<00:13, 27.78it/s]"
     ]
    },
    {
     "name": "stdout",
     "output_type": "stream",
     "text": [
      "0.2982085347175598\n"
     ]
    },
    {
     "name": "stderr",
     "output_type": "stream",
     "text": [
      "100%|██████████| 391/391 [00:13<00:00, 28.43it/s]\n",
      "  2%|▏         | 6/391 [00:00<00:14, 27.35it/s]"
     ]
    },
    {
     "name": "stdout",
     "output_type": "stream",
     "text": [
      "0.3044389486312866\n"
     ]
    },
    {
     "name": "stderr",
     "output_type": "stream",
     "text": [
      "100%|██████████| 391/391 [00:13<00:00, 28.48it/s]\n",
      "  2%|▏         | 6/391 [00:00<00:14, 26.74it/s]"
     ]
    },
    {
     "name": "stdout",
     "output_type": "stream",
     "text": [
      "0.28962451219558716\n"
     ]
    },
    {
     "name": "stderr",
     "output_type": "stream",
     "text": [
      "100%|██████████| 391/391 [00:13<00:00, 28.68it/s]\n",
      "  2%|▏         | 6/391 [00:00<00:14, 27.05it/s]"
     ]
    },
    {
     "name": "stdout",
     "output_type": "stream",
     "text": [
      "0.28639060258865356\n"
     ]
    },
    {
     "name": "stderr",
     "output_type": "stream",
     "text": [
      "100%|██████████| 391/391 [00:13<00:00, 29.21it/s]\n",
      "  2%|▏         | 6/391 [00:00<00:14, 26.56it/s]"
     ]
    },
    {
     "name": "stdout",
     "output_type": "stream",
     "text": [
      "0.29265156388282776\n"
     ]
    },
    {
     "name": "stderr",
     "output_type": "stream",
     "text": [
      "100%|██████████| 391/391 [00:13<00:00, 28.56it/s]\n",
      "  2%|▏         | 6/391 [00:00<00:14, 27.42it/s]"
     ]
    },
    {
     "name": "stdout",
     "output_type": "stream",
     "text": [
      "0.2804614007472992\n"
     ]
    },
    {
     "name": "stderr",
     "output_type": "stream",
     "text": [
      "100%|██████████| 391/391 [00:13<00:00, 29.00it/s]\n",
      "  2%|▏         | 6/391 [00:00<00:14, 26.91it/s]"
     ]
    },
    {
     "name": "stdout",
     "output_type": "stream",
     "text": [
      "0.26953691244125366\n"
     ]
    },
    {
     "name": "stderr",
     "output_type": "stream",
     "text": [
      "100%|██████████| 391/391 [00:13<00:00, 28.74it/s]\n",
      "  2%|▏         | 6/391 [00:00<00:14, 27.47it/s]"
     ]
    },
    {
     "name": "stdout",
     "output_type": "stream",
     "text": [
      "0.2649284899234772\n"
     ]
    },
    {
     "name": "stderr",
     "output_type": "stream",
     "text": [
      "100%|██████████| 391/391 [00:13<00:00, 29.14it/s]\n",
      "  2%|▏         | 6/391 [00:00<00:14, 26.76it/s]"
     ]
    },
    {
     "name": "stdout",
     "output_type": "stream",
     "text": [
      "0.2789513170719147\n"
     ]
    },
    {
     "name": "stderr",
     "output_type": "stream",
     "text": [
      "100%|██████████| 391/391 [00:13<00:00, 28.72it/s]\n"
     ]
    }
   ],
   "source": [
    "\n",
    "for epoch in range(epochs):\n",
    "    pbar = tqdm.tqdm(enumerate(loader), total=len(loader))\n",
    "\n",
    "    for it, (x, y) in pbar:\n",
    "\n",
    "        # place data on the correct device\n",
    "        x = x.to(device).float()\n",
    "        y = y.to(device).float()\n",
    "\n",
    "        # forward the model\n",
    "        with torch.set_grad_enabled(True):\n",
    "            x = x.squeeze(1)\n",
    "            y = y.squeeze(1)\n",
    "            pred_ac = model.forward(x)\n",
    "\n",
    "            loss = model.bc_loss(pred_ac, y)\n",
    "            loss = loss.mean() # collapse all losses if they are scattered on multiple gpus\n",
    "            losses.append(loss.item())\n",
    "            model.zero_grad()\n",
    "            loss.backward()\n",
    "            optimizer.step()\n",
    "\n",
    "        if it % 1000 == 0:\n",
    "            print(loss.item())\n",
    "\n",
    "        #if it == 5000:\n",
    "        #    break"
   ]
  },
  {
   "cell_type": "code",
   "execution_count": 15,
   "id": "6767d240",
   "metadata": {},
   "outputs": [
    {
     "data": {
      "text/plain": [
       "[<matplotlib.lines.Line2D at 0x7f9a651dbcd0>]"
      ]
     },
     "execution_count": 15,
     "metadata": {},
     "output_type": "execute_result"
    },
    {
     "data": {
      "image/png": "[encoded data removed]",
      "text/plain": [
       "<Figure size 432x288 with 1 Axes>"
      ]
     },
     "metadata": {
      "needs_background": "light"
     },
     "output_type": "display_data"
    }
   ],
   "source": [
    "plt.plot(losses)"
   ]
  },
  {
   "cell_type": "code",
   "execution_count": null,
   "id": "889e421e",
   "metadata": {},
   "outputs": [
    {
     "ename": "Error",
     "evalue": "Kernel is dead",
     "output_type": "error",
     "traceback": [
      "Error: Kernel is dead",
      "at g._sendKernelShellControl (/home/kourosh/.vscode-server/extensions/ms-toolsai.jupyter-2021.9.1101343141/out/client/extension.js:52:1006305)",
      "at g.sendShellMessage (/home/kourosh/.vscode-server/extensions/ms-toolsai.jupyter-2021.9.1101343141/out/client/extension.js:52:1006074)",
      "at g.requestExecute (/home/kourosh/.vscode-server/extensions/ms-toolsai.jupyter-2021.9.1101343141/out/client/extension.js:52:1008616)",
      "at d.requestExecute (/home/kourosh/.vscode-server/extensions/ms-toolsai.jupyter-2021.9.1101343141/out/client/extension.js:37:328037)",
      "at S.requestExecute (/home/kourosh/.vscode-server/extensions/ms-toolsai.jupyter-2021.9.1101343141/out/client/extension.js:32:19306)",
      "at w.executeCodeCell (/home/kourosh/.vscode-server/extensions/ms-toolsai.jupyter-2021.9.1101343141/out/client/extension.js:52:300924)",
      "at w.execute (/home/kourosh/.vscode-server/extensions/ms-toolsai.jupyter-2021.9.1101343141/out/client/extension.js:52:300551)",
      "at w.start (/home/kourosh/.vscode-server/extensions/ms-toolsai.jupyter-2021.9.1101343141/out/client/extension.js:52:296215)",
      "at async t.CellExecutionQueue.executeQueuedCells (/home/kourosh/.vscode-server/extensions/ms-toolsai.jupyter-2021.9.1101343141/out/client/extension.js:52:310950)",
      "at async t.CellExecutionQueue.start (/home/kourosh/.vscode-server/extensions/ms-toolsai.jupyter-2021.9.1101343141/out/client/extension.js:52:310490)"
     ]
    }
   ],
   "source": [
    "env = dmc.make(TASK_NAME, seed=10, obs_type=OBS_TYPE)\n",
    "pl.seed_everything(10)\n",
    "\n",
    "\n",
    "timestep = env.reset()\n",
    "print(timestep)\n"
   ]
  },
  {
   "cell_type": "code",
   "execution_count": null,
   "id": "6a3a8cac",
   "metadata": {},
   "outputs": [],
   "source": [
    "torch.save({\n",
    "            'epoch': 10,\n",
    "            'model_state_dict': model.state_dict(),\n",
    "            'optimizer_state_dict': optimizer.state_dict(),\n",
    "            'loss': np.mean(losses[-100:])\n",
    "            }, './bc.pt')"
   ]
  },
  {
   "cell_type": "markdown",
   "id": "30779c29",
   "metadata": {},
   "source": [
    "# Transfromer-based BC"
   ]
  },
  {
   "cell_type": "code",
   "execution_count": null,
   "id": "7174eb32",
   "metadata": {},
   "outputs": [],
   "source": [
    "import math\n",
    "import logging\n",
    "\n",
    "import torch\n",
    "import torch.nn as nn\n",
    "from torch.nn import functional as F\n",
    "\n",
    "\n",
    "class Attention(nn.Module):\n",
    "    \n",
    "    def __init__(self, conf):\n",
    "        super().__init__()\n",
    "        \n",
    "        self.n_head = conf.n_head\n",
    "        h_dim = conf.h_dim\n",
    "        max_T = conf.max_T\n",
    "        self.qnet = nn.Linear(h_dim, h_dim)\n",
    "        self.knet = nn.Linear(h_dim, h_dim)\n",
    "        self.vnet = nn.Linear(h_dim, h_dim)\n",
    "        \n",
    "        self.proj = nn.Linear(h_dim, h_dim)\n",
    "        \n",
    "        mask = torch.tril(torch.ones(max_T,max_T)).view(1,1,max_T,max_T)\n",
    "        self.register_buffer('mask',mask)\n",
    "        \n",
    "    def forward(self, x):\n",
    "        # x is (B, T, C)\n",
    "        assert x is not None\n",
    "        B, T, C = x.shape\n",
    "        N = self.n_head\n",
    "        H = C // N\n",
    "        assert C % N == 0\n",
    "        \n",
    "        q = self.qnet(x).view(B, T, N, H).transpose(1, 2)\n",
    "        k = self.knet(x).view(B, T, N, H).transpose(1, 2)\n",
    "        v = self.vnet(x).view(B, T, N, H).transpose(1, 2)\n",
    "        \n",
    "        att = q @ k.transpose(2, 3) * (1.0 / math.sqrt(H)) # (:, :, T, T)\n",
    "        \n",
    "        att.masked_fill(self.mask == 0, float('-inf'))\n",
    "        \n",
    "        att = F.softmax(att, dim=-1) # stays # (:, :, T, T)\n",
    "        \n",
    "        att = att @ v # (B, N, T, T) @ (B, N, T, H)\n",
    "        \n",
    "        # gather heads\n",
    "        \n",
    "        out = att.transpose(1, 2).contiguous().view(B, T, C)\n",
    "        \n",
    "        out = self.proj(out)\n",
    "        return out\n",
    "    \n",
    "class Transformer(nn.Module):\n",
    "    \n",
    "    def __init__(self, config):\n",
    "        super().__init__()\n",
    "        \n",
    "        h_dim = config.h_dim\n",
    "        self.attention = Attention(config)\n",
    "        self.ln1 = nn.LayerNorm(h_dim)\n",
    "        self.mlp = nn.Sequential(\n",
    "            nn.Linear(h_dim, 4*h_dim),\n",
    "            nn.ReLU(),\n",
    "            nn.Linear(4*h_dim, h_dim),\n",
    "        )\n",
    "        self.ln2 = nn.LayerNorm(h_dim)\n",
    "        \n",
    "    def forward(self, x):\n",
    "        \n",
    "        x = x + self.attention(x)\n",
    "        x = self.ln1(x)\n",
    "        x = x + self.mlp(x)\n",
    "        x = self.ln2(x)\n",
    "        \n",
    "        return x\n",
    "        \n",
    "\n",
    "class GPT(nn.Module):\n",
    "    \n",
    "    def __init__(self, conf):\n",
    "        super().__init__()\n",
    "\n",
    "        # token embeddings\n",
    "        vocab_dim = conf.in_dim\n",
    "        h_dim = conf.h_dim\n",
    "        obs_dim = conf.obs_dim\n",
    "        ac_dim = conf.ac_dim\n",
    "        self.obs_dim = obs_dim\n",
    "                \n",
    "        self.token_embed = nn.Linear(vocab_dim, h_dim)\n",
    "        \n",
    "        self.pos_encoding = nn.Parameter(torch.zeros(1, conf.max_T, h_dim))\n",
    "        \n",
    "        # transformer\n",
    "        self.transformer = nn.Sequential(*[Transformer(conf) for _ in range(conf.n_layer)])\n",
    "        self.ln = nn.LayerNorm(h_dim)\n",
    "        \n",
    "        # prediction head\n",
    "        self.pred_head = nn.Linear(h_dim, vocab_dim, bias=False)\n",
    "        \n",
    "        # policy head\n",
    "        task_dim = 16\n",
    "        self.task_proj = nn.Sequential(nn.Linear(h_dim, task_dim), nn.ReLU())\n",
    "        self.policy_head = nn.Sequential(\n",
    "            nn.Linear(task_dim + obs_dim, 4*task_dim),nn.ReLU(), nn.Linear(4*task_dim, ac_dim))\n",
    "        \n",
    "        self.apply(self._init_weights)\n",
    "        \n",
    "    def _init_weights(self, module):\n",
    "        if isinstance(module, (nn.Linear, nn.Embedding)):\n",
    "            module.weight.data.normal_(mean=0.0, std=0.02)\n",
    "            if isinstance(module, nn.Linear) and module.bias is not None:\n",
    "                module.bias.data.zero_()\n",
    "        elif isinstance(module, nn.LayerNorm):\n",
    "            module.bias.data.zero_()\n",
    "            module.weight.data.fill_(1.0)\n",
    "        \n",
    "    def forward(self, x):\n",
    "        \n",
    "        B, T, C = x.shape\n",
    "        token_h = self.token_embed(x)\n",
    "        pos_h = self.pos_encoding[:, :T, :]\n",
    "        \n",
    "        h = token_h + pos_h\n",
    "\n",
    "        h = self.transformer(h)\n",
    "        \n",
    "        logits = self.pred_head(h)\n",
    "                \n",
    "        return logits, h\n",
    "    \n",
    "    def behavior_clone(self, z, x, y):\n",
    "        B, T, C = x.shape\n",
    "        \n",
    "        diag = torch.arange(T)\n",
    "        \n",
    "    \n",
    "        \n",
    "        obs = x[:,diag,:self.obs_dim]\n",
    "        target_ac = y[:,diag, self.obs_dim:]\n",
    "        \n",
    "        z = self.task_proj(z)\n",
    "        \n",
    "        z_obs = torch.cat([obs, z], -1)\n",
    "      \n",
    "        pred_ac = self.policy_head(z_obs)\n",
    "        return pred_ac, target_ac\n",
    "    \n",
    " \n",
    "    def bc_loss(self, pred_ac, target_ac):\n",
    "     \n",
    "        pred_ac = pred_ac.view(-1, pred_ac.shape[-1])\n",
    "        target_ac = target_ac.view(-1, target_ac.shape[-1])\n",
    "        loss = F.mse_loss(pred_ac, target_ac)\n",
    "        \n",
    "        return loss\n",
    "        \n",
    "    \n",
    "    def compute_loss(self, logits, targets):\n",
    "        B, T, C = logits.shape\n",
    "      \n",
    "        \n",
    "        logits = logits.view(-1, logits.shape[-1])\n",
    "        targets = targets.view(-1, targets.shape[-1])\n",
    "        loss = F.mse_loss(logits, targets)\n",
    "        \n",
    "        return loss\n",
    "    \n",
    "\n",
    "    \n",
    "\n",
    "class BCMLP(nn.Module):\n",
    "    \n",
    "    def __init__(self, conf):\n",
    "        super().__init__()\n",
    "\n",
    "        h_dim = conf.h_dim\n",
    "        obs_dim = conf.obs_dim\n",
    "        ac_dim = conf.ac_dim\n",
    "        self.obs_dim = obs_dim\n",
    "        \n",
    "        self.mlp = nn.Sequential(nn.Linear(obs_dim, h_dim),\n",
    "                                 nn.ReLU(),\n",
    "                                 nn.Linear(h_dim, h_dim),\n",
    "                                 nn.ReLU(),\n",
    "                                 nn.Linear(h_dim, h_dim),\n",
    "                                 nn.ReLU(),\n",
    "                                 nn.Linear(h_dim, ac_dim))\n",
    "                \n",
    "        self.apply(self._init_weights)\n",
    "        \n",
    "    def _init_weights(self, module):\n",
    "        if isinstance(module, (nn.Linear, nn.Embedding)):\n",
    "            module.weight.data.normal_(mean=0.0, std=0.02)\n",
    "            if isinstance(module, nn.Linear) and module.bias is not None:\n",
    "                module.bias.data.zero_()\n",
    "        elif isinstance(module, nn.LayerNorm):\n",
    "            module.bias.data.zero_()\n",
    "            module.weight.data.fill_(1.0)\n",
    "        \n",
    "    def forward(self, x, y=None):\n",
    "        \"\"\"\n",
    "        What we want here a_t_pred = f(o_{t-k}, a_{t-k}, ..., o_{t-1}, a_{t}, o_{t})\n",
    "        \"\"\"\n",
    "        \n",
    "        B, T, C = x.shape\n",
    "        x = x.view(B*T, C)\n",
    "        obs = x[:,:self.obs_dim]\n",
    "        target_ac = x[:,self.obs_dim:]\n",
    "        \n",
    "        pred_ac = self.mlp(obs)\n",
    "                \n",
    "        return pred_ac, target_ac\n",
    "    \n",
    "    \n",
    "    def bc_loss(self, pred_ac, target_ac):\n",
    "     \n",
    "        pred_ac = pred_ac.view(-1, pred_ac.shape[-1])\n",
    "        target_ac = target_ac.view(-1, target_ac.shape[-1])\n",
    "        loss = F.mse_loss(pred_ac, target_ac)\n",
    "        \n",
    "        return loss\n",
    "        \n",
    "    \n",
    "    def compute_loss(self, *args, **kwargs):\n",
    "        return 0.0\n",
    "    \n",
    "        \n",
    "        "
   ]
  },
  {
   "cell_type": "code",
   "execution_count": null,
   "id": "b76fec8a",
   "metadata": {},
   "outputs": [],
   "source": [
    "import tqdm \n",
    "\n",
    "class GPTConfig:\n",
    "    \"\"\" base GPT config, params common to all GPT versions \"\"\"\n",
    "    embd_pdrop = 0.1\n",
    "    resid_pdrop = 0.1\n",
    "    attn_pdrop = 0.1\n",
    "    \n",
    "    \n",
    "\n",
    "    def __init__(self, vocab_size=2, block_size=64, \n",
    "                 n_layer=4, n_head=8, n_embd=512, obs_dim=4, ac_dim=2):\n",
    "        self.vocab_size = vocab_size\n",
    "        self.block_size = block_size\n",
    "\n",
    "        self.n_layer=n_layer\n",
    "        self.n_head=n_head\n",
    "        self.h_dim=n_embd \n",
    "        \n",
    "        self.in_dim = vocab_size\n",
    "        self.out_dim = vocab_size\n",
    "        self.max_T = block_size\n",
    "        \n",
    "        self.obs_dim = obs_dim\n",
    "        self.ac_dim = ac_dim\n",
    "     \n",
    "       \n",
    "\n",
    "\n",
    "conf = GPTConfig(6, 64,\n",
    "                  n_layer=2, n_head=8, n_embd=256, obs_dim=4, \n",
    "                  )\n",
    "model = GPT(conf)\n",
    "\n",
    "weight_decay=1e-4\n",
    "learning_rate=1e-4\n",
    "betas=(0.99,0.999)\n",
    "optimizer = torch.optim.AdamW(model.parameters(), lr=learning_rate, betas=betas)\n",
    "\n",
    "device = torch.device('cuda')\n",
    "\n",
    "model = model.to(device)\n",
    "\n",
    "losses = []\n",
    "epochs = 10\n",
    "for epoch in range(epochs):\n",
    "    pbar = tqdm.tqdm(enumerate(loader), total=len(loader)) if True else enumerate(loader)\n",
    "\n",
    "    for it, (x, y) in pbar:\n",
    "\n",
    "        # place data on the correct device\n",
    "        x = x.to(device).float()\n",
    "\n",
    "        y = y.to(device).float()\n",
    "\n",
    "        # forward the model\n",
    "        with torch.set_grad_enabled(True):\n",
    "            x = x.view(-1,x.shape[-1])\n",
    "            y = y.view(-1, y.shape[-1])\n",
    "            pred_ac = model.forward(x)\n",
    "\n",
    "            loss = model.bc_loss(pred_ac, y)\n",
    "            loss = loss.mean() # collapse all losses if they are scattered on multiple gpus\n",
    "            losses.append(loss.item())\n",
    "            model.zero_grad()\n",
    "            loss.backward()\n",
    "            optimizer.step()\n",
    "\n",
    "        if it % 1000 == 0:\n",
    "            print(loss.item())\n",
    "\n",
    "        #if it == 5000:\n",
    "        #    break\n"
   ]
  }
 ],
 "metadata": {
  "interpreter": {
   "hash": "3f49e71d5a4561ebae520361f20f6b09ea77b1ad6de91bf873e838bdff1a7e76"
  },
  "kernelspec": {
   "display_name": "Python 3.8.12 64-bit ('urlb': conda)",
   "name": "python3"
  },
  "language_info": {
   "codemirror_mode": {
    "name": "ipython",
    "version": 3
   },
   "file_extension": ".py",
   "mimetype": "text/x-python",
   "name": "python",
   "nbconvert_exporter": "python",
   "pygments_lexer": "ipython3",
   "version": "3.8.12"
  }
 },
 "nbformat": 4,
 "nbformat_minor": 5
}
